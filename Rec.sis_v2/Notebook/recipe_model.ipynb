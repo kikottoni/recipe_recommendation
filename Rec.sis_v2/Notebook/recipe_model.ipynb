{
 "cells": [
  {
   "cell_type": "markdown",
   "id": "816c0789",
   "metadata": {},
   "source": [
    "# Recipe Recomendation Project"
   ]
  },
  {
   "cell_type": "markdown",
   "id": "1dae59a1",
   "metadata": {},
   "source": [
    "### Trabalho Final - TERA - Recomendação\n",
    "Francisco Ottoni, Giovana Bandinelli, Madson Nascimento de Lima e Sonia Gondo"
   ]
  },
  {
   "cell_type": "markdown",
   "id": "fcbb1147",
   "metadata": {},
   "source": [
    "Fonte do banco de dados: https://www.kaggle.com/code/takuyaishii/recipe-preprocessing/data\n",
    "\n",
    "Colunas da base:\n",
    "\n",
    "RecipeId : Id da receita\n",
    "\n",
    "Name : Nome da receita\n",
    "\n",
    "CookTime : Tempo de cozimento\n",
    "\n",
    "PrepTime : Tempo de preparo\n",
    "\n",
    "TotalTime : Tempo total de preparo (Cozimento + Preparo)\n",
    "\n",
    "Description : Descrição da receita\n",
    "\n",
    "Images : link das imagens\n",
    "\n",
    "RecipeCategory : Categoria da receita\n",
    "\n",
    "Keywords : Palavras chaves da receita\n",
    "\n",
    "RecipeIngredientQuantities: Quantidade de cada ingrediente\n",
    "\n",
    "RecipeIngredientParts: Ingredientes\n",
    "\n",
    "AggregatedRating: Média das avaliações da receita\n",
    "\n",
    "Calories: Valor colórico da receita\n",
    "\n",
    "RecipeServings: Quantidade de pessoas servidas\n",
    "\n",
    "RecipeYield: Rendimento da receita\n",
    "\n",
    "RecipeInstructions: Instruções da receita\n",
    "\n",
    "reviews_in_dict: Avaliações da receita no formato de um dicionário"
   ]
  },
  {
   "cell_type": "markdown",
   "id": "62762d60",
   "metadata": {},
   "source": [
    "### Bibliotecas e Configurações"
   ]
  },
  {
   "cell_type": "code",
   "execution_count": 1,
   "id": "cc5cc9ad",
   "metadata": {},
   "outputs": [],
   "source": [
    "#import de libs\n",
    "import pandas as pd\n",
    "import numpy as np\n",
    "import matplotlib.pyplot as plt\n",
    "import seaborn as sns\n",
    "import re\n",
    "import warnings\n",
    "import nltk"
   ]
  },
  {
   "cell_type": "code",
   "execution_count": 2,
   "id": "c7d5dc53",
   "metadata": {},
   "outputs": [],
   "source": [
    "#import From\n",
    "from nltk.corpus import stopwords\n",
    "from nltk.tokenize import word_tokenize\n",
    "from nltk.stem import PorterStemmer\n",
    "from sklearn.feature_extraction.text import TfidfVectorizer\n",
    "from sklearn.preprocessing import normalize"
   ]
  },
  {
   "cell_type": "code",
   "execution_count": 3,
   "id": "82c86dd4",
   "metadata": {},
   "outputs": [],
   "source": [
    "warnings.filterwarnings('ignore')"
   ]
  },
  {
   "cell_type": "markdown",
   "id": "e3518a6f",
   "metadata": {},
   "source": [
    "### Leitura dos dados"
   ]
  },
  {
   "cell_type": "code",
   "execution_count": 4,
   "id": "058ed7a0",
   "metadata": {},
   "outputs": [
    {
     "data": {
      "text/html": [
       "<div>\n",
       "<style scoped>\n",
       "    .dataframe tbody tr th:only-of-type {\n",
       "        vertical-align: middle;\n",
       "    }\n",
       "\n",
       "    .dataframe tbody tr th {\n",
       "        vertical-align: top;\n",
       "    }\n",
       "\n",
       "    .dataframe thead th {\n",
       "        text-align: right;\n",
       "    }\n",
       "</style>\n",
       "<table border=\"1\" class=\"dataframe\">\n",
       "  <thead>\n",
       "    <tr style=\"text-align: right;\">\n",
       "      <th></th>\n",
       "      <th>Unnamed: 0</th>\n",
       "      <th>index</th>\n",
       "      <th>RecipeId</th>\n",
       "      <th>Name</th>\n",
       "      <th>CookTime</th>\n",
       "      <th>PrepTime</th>\n",
       "      <th>TotalTime</th>\n",
       "      <th>Description</th>\n",
       "      <th>Images</th>\n",
       "      <th>RecipeCategory</th>\n",
       "      <th>Keywords</th>\n",
       "      <th>RecipeIngredientQuantities</th>\n",
       "      <th>RecipeIngredientParts</th>\n",
       "      <th>AggregatedRating</th>\n",
       "      <th>Calories</th>\n",
       "      <th>RecipeServings</th>\n",
       "      <th>RecipeYield</th>\n",
       "      <th>RecipeInstructions</th>\n",
       "      <th>reviews_in_dict</th>\n",
       "    </tr>\n",
       "  </thead>\n",
       "  <tbody>\n",
       "    <tr>\n",
       "      <th>0</th>\n",
       "      <td>0</td>\n",
       "      <td>0</td>\n",
       "      <td>38</td>\n",
       "      <td>Low-Fat Berry Blue Frozen Dessert</td>\n",
       "      <td>PT24H</td>\n",
       "      <td>PT45M</td>\n",
       "      <td>PT24H45M</td>\n",
       "      <td>Make and share this Low-Fat Berry Blue Frozen ...</td>\n",
       "      <td>['https://img.sndimg.com/food/image/upload/w_5...</td>\n",
       "      <td>Frozen Desserts</td>\n",
       "      <td>['Dessert', 'Low Protein', 'Low Cholesterol', ...</td>\n",
       "      <td>['4', '1/4', '1', '1']</td>\n",
       "      <td>['blueberries', 'granulated sugar', 'vanilla y...</td>\n",
       "      <td>4.5</td>\n",
       "      <td>170.9</td>\n",
       "      <td>4.0</td>\n",
       "      <td>NaN</td>\n",
       "      <td>['Toss 2 cups berries with sugar.', 'Let stand...</td>\n",
       "      <td>{579149: {'Rating': 5, 'Review': 'Yummy, yummy...</td>\n",
       "    </tr>\n",
       "    <tr>\n",
       "      <th>1</th>\n",
       "      <td>1</td>\n",
       "      <td>4</td>\n",
       "      <td>39</td>\n",
       "      <td>Biryani</td>\n",
       "      <td>PT25M</td>\n",
       "      <td>PT4H</td>\n",
       "      <td>PT4H25M</td>\n",
       "      <td>Make and share this Biryani recipe from Food.com.</td>\n",
       "      <td>['https://img.sndimg.com/food/image/upload/w_5...</td>\n",
       "      <td>Chicken Breast</td>\n",
       "      <td>['Chicken Thigh &amp; Leg', 'Chicken', 'Poultry', ...</td>\n",
       "      <td>['1', '4', '2', '2', '8', '1/4', '8', '1/2', '...</td>\n",
       "      <td>['saffron', 'milk', 'hot green chili peppers',...</td>\n",
       "      <td>3.0</td>\n",
       "      <td>1110.7</td>\n",
       "      <td>6.0</td>\n",
       "      <td>NaN</td>\n",
       "      <td>['Soak saffron in warm milk for 5 minutes and ...</td>\n",
       "      <td>{361851: {'Rating': 3, 'Review': 'I have an In...</td>\n",
       "    </tr>\n",
       "    <tr>\n",
       "      <th>2</th>\n",
       "      <td>2</td>\n",
       "      <td>5</td>\n",
       "      <td>40</td>\n",
       "      <td>Best Lemonade</td>\n",
       "      <td>PT5M</td>\n",
       "      <td>PT30M</td>\n",
       "      <td>PT35M</td>\n",
       "      <td>This is from one of my  first Good House Keepi...</td>\n",
       "      <td>['https://img.sndimg.com/food/image/upload/w_5...</td>\n",
       "      <td>Beverages</td>\n",
       "      <td>['Low Protein', 'Low Cholesterol', 'Healthy', ...</td>\n",
       "      <td>['1 1/2', '1', '1 1/2', '3/4']</td>\n",
       "      <td>['sugar', 'lemons, rind of', 'lemon, zest of',...</td>\n",
       "      <td>4.5</td>\n",
       "      <td>311.1</td>\n",
       "      <td>4.0</td>\n",
       "      <td>NaN</td>\n",
       "      <td>['Into a 1 quart Jar with tight fitting lid, p...</td>\n",
       "      <td>{34854: {'Rating': 5, 'Review': \"My favourite ...</td>\n",
       "    </tr>\n",
       "    <tr>\n",
       "      <th>3</th>\n",
       "      <td>3</td>\n",
       "      <td>14</td>\n",
       "      <td>41</td>\n",
       "      <td>Carina's Tofu-Vegetable Kebabs</td>\n",
       "      <td>PT20M</td>\n",
       "      <td>PT24H</td>\n",
       "      <td>PT24H20M</td>\n",
       "      <td>This dish is best prepared a day in advance to...</td>\n",
       "      <td>['https://img.sndimg.com/food/image/upload/w_5...</td>\n",
       "      <td>Soy/Tofu</td>\n",
       "      <td>['Beans', 'Vegetable', 'Low Cholesterol', 'Wee...</td>\n",
       "      <td>['12', '1', '2', '1', '10', '1', '3', '2', '2'...</td>\n",
       "      <td>['extra firm tofu', 'eggplant', 'zucchini', 'm...</td>\n",
       "      <td>4.5</td>\n",
       "      <td>536.1</td>\n",
       "      <td>2.0</td>\n",
       "      <td>4 kebabs</td>\n",
       "      <td>['Drain the tofu, carefully squeezing out exce...</td>\n",
       "      <td>{48870: {'Rating': 5, 'Review': 'I thought thi...</td>\n",
       "    </tr>\n",
       "    <tr>\n",
       "      <th>4</th>\n",
       "      <td>4</td>\n",
       "      <td>16</td>\n",
       "      <td>42</td>\n",
       "      <td>Cabbage Soup</td>\n",
       "      <td>PT30M</td>\n",
       "      <td>PT20M</td>\n",
       "      <td>PT50M</td>\n",
       "      <td>Make and share this Cabbage Soup recipe from F...</td>\n",
       "      <td>['https://img.sndimg.com/food/image/upload/w_5...</td>\n",
       "      <td>Vegetable</td>\n",
       "      <td>['Low Protein', 'Vegan', 'Low Cholesterol', 'H...</td>\n",
       "      <td>['46', '4', '1', '2', '1']</td>\n",
       "      <td>['plain tomato juice', 'cabbage', 'onion', 'ca...</td>\n",
       "      <td>4.5</td>\n",
       "      <td>103.6</td>\n",
       "      <td>4.0</td>\n",
       "      <td>NaN</td>\n",
       "      <td>['Mix everything together and bring to a boil....</td>\n",
       "      <td>{46368: {'Rating': 5, 'Review': 'This is a ver...</td>\n",
       "    </tr>\n",
       "  </tbody>\n",
       "</table>\n",
       "</div>"
      ],
      "text/plain": [
       "   Unnamed: 0  index  RecipeId                               Name CookTime  \\\n",
       "0           0      0        38  Low-Fat Berry Blue Frozen Dessert    PT24H   \n",
       "1           1      4        39                            Biryani    PT25M   \n",
       "2           2      5        40                      Best Lemonade     PT5M   \n",
       "3           3     14        41     Carina's Tofu-Vegetable Kebabs    PT20M   \n",
       "4           4     16        42                       Cabbage Soup    PT30M   \n",
       "\n",
       "  PrepTime TotalTime                                        Description  \\\n",
       "0    PT45M  PT24H45M  Make and share this Low-Fat Berry Blue Frozen ...   \n",
       "1     PT4H   PT4H25M  Make and share this Biryani recipe from Food.com.   \n",
       "2    PT30M     PT35M  This is from one of my  first Good House Keepi...   \n",
       "3    PT24H  PT24H20M  This dish is best prepared a day in advance to...   \n",
       "4    PT20M     PT50M  Make and share this Cabbage Soup recipe from F...   \n",
       "\n",
       "                                              Images   RecipeCategory  \\\n",
       "0  ['https://img.sndimg.com/food/image/upload/w_5...  Frozen Desserts   \n",
       "1  ['https://img.sndimg.com/food/image/upload/w_5...   Chicken Breast   \n",
       "2  ['https://img.sndimg.com/food/image/upload/w_5...        Beverages   \n",
       "3  ['https://img.sndimg.com/food/image/upload/w_5...         Soy/Tofu   \n",
       "4  ['https://img.sndimg.com/food/image/upload/w_5...        Vegetable   \n",
       "\n",
       "                                            Keywords  \\\n",
       "0  ['Dessert', 'Low Protein', 'Low Cholesterol', ...   \n",
       "1  ['Chicken Thigh & Leg', 'Chicken', 'Poultry', ...   \n",
       "2  ['Low Protein', 'Low Cholesterol', 'Healthy', ...   \n",
       "3  ['Beans', 'Vegetable', 'Low Cholesterol', 'Wee...   \n",
       "4  ['Low Protein', 'Vegan', 'Low Cholesterol', 'H...   \n",
       "\n",
       "                          RecipeIngredientQuantities  \\\n",
       "0                             ['4', '1/4', '1', '1']   \n",
       "1  ['1', '4', '2', '2', '8', '1/4', '8', '1/2', '...   \n",
       "2                     ['1 1/2', '1', '1 1/2', '3/4']   \n",
       "3  ['12', '1', '2', '1', '10', '1', '3', '2', '2'...   \n",
       "4                         ['46', '4', '1', '2', '1']   \n",
       "\n",
       "                               RecipeIngredientParts  AggregatedRating  \\\n",
       "0  ['blueberries', 'granulated sugar', 'vanilla y...               4.5   \n",
       "1  ['saffron', 'milk', 'hot green chili peppers',...               3.0   \n",
       "2  ['sugar', 'lemons, rind of', 'lemon, zest of',...               4.5   \n",
       "3  ['extra firm tofu', 'eggplant', 'zucchini', 'm...               4.5   \n",
       "4  ['plain tomato juice', 'cabbage', 'onion', 'ca...               4.5   \n",
       "\n",
       "   Calories  RecipeServings RecipeYield  \\\n",
       "0     170.9             4.0         NaN   \n",
       "1    1110.7             6.0         NaN   \n",
       "2     311.1             4.0         NaN   \n",
       "3     536.1             2.0    4 kebabs   \n",
       "4     103.6             4.0         NaN   \n",
       "\n",
       "                                  RecipeInstructions  \\\n",
       "0  ['Toss 2 cups berries with sugar.', 'Let stand...   \n",
       "1  ['Soak saffron in warm milk for 5 minutes and ...   \n",
       "2  ['Into a 1 quart Jar with tight fitting lid, p...   \n",
       "3  ['Drain the tofu, carefully squeezing out exce...   \n",
       "4  ['Mix everything together and bring to a boil....   \n",
       "\n",
       "                                     reviews_in_dict  \n",
       "0  {579149: {'Rating': 5, 'Review': 'Yummy, yummy...  \n",
       "1  {361851: {'Rating': 3, 'Review': 'I have an In...  \n",
       "2  {34854: {'Rating': 5, 'Review': \"My favourite ...  \n",
       "3  {48870: {'Rating': 5, 'Review': 'I thought thi...  \n",
       "4  {46368: {'Rating': 5, 'Review': 'This is a ver...  "
      ]
     },
     "execution_count": 4,
     "metadata": {},
     "output_type": "execute_result"
    }
   ],
   "source": [
    "recipes = pd.read_csv('recipe_10000.csv')\n",
    "recipes.head()"
   ]
  },
  {
   "cell_type": "markdown",
   "id": "892a3a93",
   "metadata": {},
   "source": [
    "### EDA"
   ]
  },
  {
   "cell_type": "code",
   "execution_count": 5,
   "id": "b2de35d5",
   "metadata": {},
   "outputs": [
    {
     "name": "stdout",
     "output_type": "stream",
     "text": [
      "<class 'pandas.core.frame.DataFrame'>\n",
      "RangeIndex: 10000 entries, 0 to 9999\n",
      "Data columns (total 19 columns):\n",
      " #   Column                      Non-Null Count  Dtype  \n",
      "---  ------                      --------------  -----  \n",
      " 0   Unnamed: 0                  10000 non-null  int64  \n",
      " 1   index                       10000 non-null  int64  \n",
      " 2   RecipeId                    10000 non-null  int64  \n",
      " 3   Name                        10000 non-null  object \n",
      " 4   CookTime                    10000 non-null  object \n",
      " 5   PrepTime                    10000 non-null  object \n",
      " 6   TotalTime                   10000 non-null  object \n",
      " 7   Description                 10000 non-null  object \n",
      " 8   Images                      10000 non-null  object \n",
      " 9   RecipeCategory              10000 non-null  object \n",
      " 10  Keywords                    10000 non-null  object \n",
      " 11  RecipeIngredientQuantities  10000 non-null  object \n",
      " 12  RecipeIngredientParts       10000 non-null  object \n",
      " 13  AggregatedRating            10000 non-null  float64\n",
      " 14  Calories                    10000 non-null  float64\n",
      " 15  RecipeServings              6147 non-null   float64\n",
      " 16  RecipeYield                 2999 non-null   object \n",
      " 17  RecipeInstructions          10000 non-null  object \n",
      " 18  reviews_in_dict             10000 non-null  object \n",
      "dtypes: float64(3), int64(3), object(13)\n",
      "memory usage: 1.4+ MB\n"
     ]
    }
   ],
   "source": [
    "#informações sobre nome de colunas, numero de linhas e dtype\n",
    "\n",
    "recipes.info()"
   ]
  },
  {
   "cell_type": "code",
   "execution_count": 6,
   "id": "9e48d8d6",
   "metadata": {},
   "outputs": [
    {
     "name": "stdout",
     "output_type": "stream",
     "text": [
      "nosso dataset contém 10000 linhas e 19 colunas.\n"
     ]
    }
   ],
   "source": [
    "#exibindo o número de linhas e colunas iniciais\n",
    "\n",
    "print('nosso dataset contém {} linhas e {} colunas.'.format(recipes.shape[0], recipes.shape[1]))"
   ]
  },
  {
   "cell_type": "code",
   "execution_count": 7,
   "id": "268f4aac",
   "metadata": {},
   "outputs": [
    {
     "data": {
      "text/plain": [
       "Unnamed: 0                    10000\n",
       "index                         10000\n",
       "RecipeId                      10000\n",
       "Name                           9653\n",
       "CookTime                        152\n",
       "PrepTime                         74\n",
       "TotalTime                       328\n",
       "Description                    9861\n",
       "Images                        10000\n",
       "RecipeCategory                  173\n",
       "Keywords                       8084\n",
       "RecipeIngredientQuantities     9539\n",
       "RecipeIngredientParts          9920\n",
       "AggregatedRating                  9\n",
       "Calories                       5917\n",
       "RecipeServings                   40\n",
       "RecipeYield                    1472\n",
       "RecipeInstructions             9999\n",
       "reviews_in_dict               10000\n",
       "dtype: int64"
      ]
     },
     "execution_count": 7,
     "metadata": {},
     "output_type": "execute_result"
    }
   ],
   "source": [
    "#Contando valores únicos\n",
    "\n",
    "recipes.nunique()"
   ]
  },
  {
   "cell_type": "code",
   "execution_count": 8,
   "id": "89f057c5",
   "metadata": {},
   "outputs": [
    {
     "data": {
      "text/plain": [
       "RecipeYield                   7001\n",
       "RecipeServings                3853\n",
       "Unnamed: 0                       0\n",
       "Keywords                         0\n",
       "RecipeInstructions               0\n",
       "Calories                         0\n",
       "AggregatedRating                 0\n",
       "RecipeIngredientParts            0\n",
       "RecipeIngredientQuantities       0\n",
       "RecipeCategory                   0\n",
       "index                            0\n",
       "Images                           0\n",
       "Description                      0\n",
       "TotalTime                        0\n",
       "PrepTime                         0\n",
       "CookTime                         0\n",
       "Name                             0\n",
       "RecipeId                         0\n",
       "reviews_in_dict                  0\n",
       "dtype: int64"
      ]
     },
     "execution_count": 8,
     "metadata": {},
     "output_type": "execute_result"
    }
   ],
   "source": [
    "#contagem de valores nulos por coluna\n",
    "\n",
    "recipes.isnull().sum().sort_values(ascending=False)"
   ]
  },
  {
   "cell_type": "code",
   "execution_count": 9,
   "id": "35b2e791",
   "metadata": {},
   "outputs": [
    {
     "data": {
      "text/plain": [
       "array(['Frozen Desserts', 'Chicken Breast', 'Beverages', 'Soy/Tofu',\n",
       "       'Vegetable', 'Chicken', 'Pie', 'Dessert', 'Southwestern U.S.',\n",
       "       'Stew', 'Lactose Free', 'Sauces', 'Brazilian', 'Potato', 'Cheese',\n",
       "       'Lamb/Sheep', 'Scones', 'Drop Cookies', 'Weeknight',\n",
       "       'Quick Breads', 'Low Protein', 'Curries', '< 60 Mins', '< 30 Mins',\n",
       "       'Lunch/Snacks', 'Steak', 'Lobster', 'Pork', 'Chicken Livers',\n",
       "       'Crab', 'Very Low Carbs', 'Chowders', 'Meat', 'Breakfast',\n",
       "       'Hungarian', 'German', 'Onions', 'Bar Cookie', 'Indonesian',\n",
       "       'Lentil', 'High Protein', 'Greek', 'Pineapple', 'Peppers',\n",
       "       'Cauliflower', 'Breads', 'Yeast Breads', 'Fruit', 'Free Of...',\n",
       "       'European', 'Mexican', 'Beans', 'One Dish Meal', 'Savory Pies',\n",
       "       'Cheesecake', 'Candy', 'Long Grain Rice', 'Whole Chicken',\n",
       "       '< 15 Mins', 'Rice', 'Apple', 'Tuna', 'Spaghetti', 'Jellies',\n",
       "       'Gelatin', 'Healthy', 'Low Cholesterol', 'Shakes', 'Chutneys',\n",
       "       'Tex Mex', 'Veal', 'Mussels', 'Chicken Thigh & Leg', 'Poultry',\n",
       "       'Colombian', 'Microwave', 'Gumbo', 'White Rice', 'Spreads',\n",
       "       'Meatloaf', 'Winter', 'Summer', 'Corn', 'Clear Soup', 'Roast Beef',\n",
       "       'Yam/Sweet Potato', 'Oranges', 'Whole Duck', 'Asian', 'Greens',\n",
       "       'Cajun', 'Sourdough Breads', 'Christmas', 'Trout', 'Broil/Grill',\n",
       "       'Raspberries', 'Black Beans', 'Vietnamese', 'Chinese', 'Pheasant',\n",
       "       'Canadian', 'Oven', 'Vegan', 'Spring', 'Halibut', 'Collard Greens',\n",
       "       'Thai', 'Tilapia', 'Penne', 'Coconut', 'Melons', 'Japanese',\n",
       "       'Strawberry', 'Whole Turkey', 'Pasta Shells', 'Smoothies', 'Ham',\n",
       "       'Berries', 'Spicy', 'Citrus', 'Medium Grain Rice', 'Spinach',\n",
       "       'Short Grain Rice', 'Salad Dressings', 'Thanksgiving', 'Grains',\n",
       "       'Native American', 'Stocks', 'Deer', 'Danish', 'African', 'Papaya',\n",
       "       'Brown Rice', 'Bass', 'Caribbean', 'Potluck', 'Punch Beverage',\n",
       "       'Ethiopian', 'Beef Organ Meats', 'Goose', 'Squid', 'Kid Friendly',\n",
       "       'Plums', 'Kosher', 'Perch', 'Elk', 'Australian', 'Manicotti',\n",
       "       'Quail', 'Duck Breasts', 'Spanish', 'Catfish', 'Turkey Breasts',\n",
       "       'Household Cleaner', 'Crawfish', 'Peanut Butter', 'Korean',\n",
       "       'Orange Roughy', 'Swedish', 'High In...', 'Hawaiian', 'Canning',\n",
       "       'Mahi Mahi', 'Szechuan', 'Pears', 'Summer Dip', 'Portuguese',\n",
       "       'Costa Rican', 'Dutch', 'Polish', 'Creole', 'Nuts', 'Wild Game'],\n",
       "      dtype=object)"
      ]
     },
     "execution_count": 9,
     "metadata": {},
     "output_type": "execute_result"
    }
   ],
   "source": [
    "#categorias das receitas\n",
    "\n",
    "recipes['RecipeCategory'].unique()"
   ]
  },
  {
   "cell_type": "code",
   "execution_count": 10,
   "id": "6801af00",
   "metadata": {},
   "outputs": [
    {
     "data": {
      "text/plain": [
       "Dessert          1037\n",
       "Lunch/Snacks      930\n",
       "Vegetable         730\n",
       "One Dish Meal     616\n",
       "Chicken           510\n",
       "                 ... \n",
       "Danish              1\n",
       "Goose               1\n",
       "African             1\n",
       "Ethiopian           1\n",
       "Wild Game           1\n",
       "Name: RecipeCategory, Length: 173, dtype: int64"
      ]
     },
     "execution_count": 10,
     "metadata": {},
     "output_type": "execute_result"
    }
   ],
   "source": [
    "recipes['RecipeCategory'].value_counts()"
   ]
  },
  {
   "cell_type": "code",
   "execution_count": 11,
   "id": "2d159fa8",
   "metadata": {},
   "outputs": [
    {
     "data": {
      "text/plain": [
       "PT30M        712\n",
       "PT25M        660\n",
       "PT40M        657\n",
       "PT35M        605\n",
       "PT45M        545\n",
       "            ... \n",
       "PT25H50M       1\n",
       "PT7H25M        1\n",
       "PT288H30M      1\n",
       "PT336H8M       1\n",
       "PT24H5M        1\n",
       "Name: TotalTime, Length: 328, dtype: int64"
      ]
     },
     "execution_count": 11,
     "metadata": {},
     "output_type": "execute_result"
    }
   ],
   "source": [
    "#quantidade de receitas por tempo total de preparo\n",
    "\n",
    "recipes['TotalTime'].value_counts()"
   ]
  },
  {
   "cell_type": "markdown",
   "id": "74d6ef5a",
   "metadata": {},
   "source": [
    "**RESULTADOS:** \n",
    "- nosso dataset contém 10000 linhas e 19 colunas;\n",
    "- Só existem Valores Nulos em Duas colunas que são: RecipeYield e RecipeServings;\n",
    "- Existem colunas que tentam repetir o index e não significam nada para o projeto (unnamed:0 e index) além de uma coluna com links de imagens que não vamos utilizar nesse momento;\n",
    "- Existem muitas entradas difentes nas variavies de recipe category;\n",
    "- Nosso dataset possuem váriaveis de tempo que são díficeis de serem útilizadas antes de realizar alguma transformação."
   ]
  },
  {
   "cell_type": "markdown",
   "id": "a8e80ea7",
   "metadata": {},
   "source": [
    "### Primeiras alterações, Transformação nas váriaveis de tempo e criação de colunas"
   ]
  },
  {
   "cell_type": "code",
   "execution_count": 12,
   "id": "99fed86c",
   "metadata": {},
   "outputs": [],
   "source": [
    "#drop de colunas que não serão utilizadas\n",
    "\n",
    "recipes.drop(columns=['Unnamed: 0', 'index', 'Images'], inplace=True)"
   ]
  },
  {
   "cell_type": "code",
   "execution_count": 13,
   "id": "ac4d020b",
   "metadata": {},
   "outputs": [],
   "source": [
    "#Usando regex para criar coluna de Horas\n",
    "\n",
    "recipes['hours'] = recipes.TotalTime.str[2:].map(lambda x: re.search(\"^(.*?)[H]\", x))\n",
    "recipes['hours'] = recipes['hours'].apply(lambda x: 0 if x is None else x.group()[:-1])"
   ]
  },
  {
   "cell_type": "code",
   "execution_count": 14,
   "id": "e829f0ee",
   "metadata": {},
   "outputs": [],
   "source": [
    "#usando regex para criar coluna de minutos\n",
    "\n",
    "recipes['minutes'] = recipes.TotalTime.str[2:].map(lambda x: re.search(\"[0-9]{1,}M\", x))\n",
    "recipes['minutes'] = recipes['minutes'].apply(lambda x: 0 if x is None else x.group()[:-1])"
   ]
  },
  {
   "cell_type": "code",
   "execution_count": 15,
   "id": "a1a3d40b",
   "metadata": {},
   "outputs": [],
   "source": [
    "#Criando coluna de tempo total em minutos\n",
    "\n",
    "recipes['totaltime_min'] = (recipes[\"hours\"].astype(\"int64\") * 60) + recipes['minutes'].astype(\"int64\")"
   ]
  },
  {
   "cell_type": "markdown",
   "id": "6bfd0023",
   "metadata": {},
   "source": [
    "##### old version"
   ]
  },
  {
   "cell_type": "markdown",
   "id": "d90369f4",
   "metadata": {},
   "source": [
    "#Criando função para limpar as variaveis de tempo (remover o termo 'PT' da string):\n",
    "\n",
    "def time_cleaning1(x):\n",
    "    return x[2:]"
   ]
  },
  {
   "cell_type": "markdown",
   "id": "d5ab36bb",
   "metadata": {},
   "source": [
    "#removendo os termos 'M', 'S' e 'H' das váriaveis de tempo e transformando todas para minutos:\n",
    "\n",
    "def time_cleaning2(x):\n",
    "\n",
    "        \n",
    "#transformando tempo quando a formatação contem 3 casas:\n",
    "\n",
    "    if len(x) == 3:\n",
    "        \n",
    "        if x[2] == 'M':\n",
    "            return int(x[:2])\n",
    "        \n",
    "        elif x[2] == 'H':\n",
    "            new_value1 = int(x[:2])\n",
    "            new_value2 = new_value1 * 60\n",
    "            return new_value2\n",
    "\n",
    "#transformando tempo quando a formatação contem 2 casas:   \n",
    "    \n",
    "    elif len(x) == 2:\n",
    "        \n",
    "        if x[1] == 'M':\n",
    "            return int(x[0])\n",
    "        \n",
    "        elif x[1]== 'H':\n",
    "            new_value1 = int(x[0])\n",
    "            new_value2 = new_value1 * 60\n",
    "            return new_value2\n",
    "        \n",
    "        elif x[1] == 'S':\n",
    "            return 0\n",
    "\n",
    "#transformando tempo quando a formatação contem 4 casas:\n",
    "    elif len(x)== 4:\n",
    "        \n",
    "        if x[1] == 'H':\n",
    "            horas =  int(x[0])\n",
    "            min = int(x[2])\n",
    "            new_value1 = horas *60\n",
    "            new_value2 = new_value1 + min\n",
    "            return new_value2\n",
    "        \n",
    "        elif x[-1] == 'H':\n",
    "            new_value = int(x[:3]) * 60\n",
    "            return new_value\n",
    "                   \n",
    "#transformando tempo quando a formatação contem 5 casas:\n",
    "\n",
    "    elif len(x) == 5:\n",
    "        \n",
    "        if x[1] == 'H':\n",
    "            horas = int(x[0])\n",
    "            min = int(x[2:4])\n",
    "            new_value1 = horas * 60\n",
    "            new_value2 = new_value1 + min\n",
    "            return new_value2\n",
    "            \n",
    "        elif x[2] == 'H':\n",
    "            horas = int(x[:2])\n",
    "            min = int(x[3])\n",
    "            new_value1 = horas * 60\n",
    "            new_value2 = new_value1 + min\n",
    "            return new_value2\n",
    "        \n",
    "        elif x[4] == 'H':\n",
    "            new_value = int(x[:4])*60\n",
    "            return new_value\n",
    "            \n",
    "\n",
    "#transformando tempo quando a formatação contem 6 casas:\n",
    "\n",
    "    elif len(x) == 6:\n",
    "        \n",
    "        if x[2] == 'H':\n",
    "            horas = int(x[:2])\n",
    "            min = int(x[3:5])\n",
    "            new_value1 = horas*60\n",
    "            new_value2 = new_value1 + min\n",
    "            return new_value2\n",
    "            "
   ]
  },
  {
   "cell_type": "markdown",
   "id": "ce2d4038",
   "metadata": {},
   "source": [
    "#aplicando transformação de tempo em CookTime\n",
    "\n",
    "recipes['cooktime_min'] = recipes.CookTime.map(time_cleaning1)\n",
    "recipes['cooktime_min'] = recipes.cooktime_min.map(time_cleaning2)"
   ]
  },
  {
   "cell_type": "markdown",
   "id": "a33cc09a",
   "metadata": {},
   "source": [
    "#amostra do resultado\n",
    "\n",
    "recipes.cooktime_min.head()"
   ]
  },
  {
   "cell_type": "markdown",
   "id": "9a68f889",
   "metadata": {},
   "source": [
    "#aplicando transformação de tempo na variavel Preptime\n",
    "\n",
    "recipes['preptime_min'] = recipes.PrepTime.map(time_cleaning1)\n",
    "recipes['preptime_min'] = recipes.preptime_min.map(time_cleaning2)"
   ]
  },
  {
   "cell_type": "markdown",
   "id": "8bb6047e",
   "metadata": {},
   "source": [
    "#aplicando transformação na coluna TotalTime\n",
    "\n",
    "recipes['totaltime_min'] = recipes.TotalTime.map(time_cleaning1)\n",
    "recipes['totaltime_min'] = recipes.totaltime_min.map(time_cleaning2)"
   ]
  },
  {
   "cell_type": "markdown",
   "id": "1803f202",
   "metadata": {},
   "source": [
    "#salvando o index desses valores nulos em uma lista\n",
    "\n",
    "lista = recipes[recipes.totaltime_min.isnull() == True].index.to_list()"
   ]
  },
  {
   "cell_type": "markdown",
   "id": "1c7b52c1",
   "metadata": {},
   "source": [
    "#dropando valores nulos gerados pela transformação\n",
    "\n",
    "recipes.drop(index=lista, inplace=True)"
   ]
  },
  {
   "cell_type": "markdown",
   "id": "ecd8ae1f",
   "metadata": {},
   "source": [
    "##### "
   ]
  },
  {
   "cell_type": "code",
   "execution_count": 16,
   "id": "99334bc4",
   "metadata": {},
   "outputs": [],
   "source": [
    "### Criando coluna de classificação de caloria\n",
    "\n",
    "recipes['calories_classification'] = pd.qcut(recipes['Calories'],3, labels = ['Low','Medium','High'])"
   ]
  },
  {
   "cell_type": "code",
   "execution_count": 17,
   "id": "371f22b9",
   "metadata": {},
   "outputs": [],
   "source": [
    "# criando lista para filtrar as 11 colunas de categoria de receitas com mais amostrar do dataset\n",
    "\n",
    "food_category = ['Dessert',\n",
    "                 'Lunch/Snacks',\n",
    "                 'Vegetable',\n",
    "                 'One Dish Meal',\n",
    "                 'Chicken',\n",
    "                 'Breads', \n",
    "                 'Quick Breads', \n",
    "                 'Pork',\n",
    "                 'Breakfast',\n",
    "                 'Potato',\n",
    "                 'Meat']\n",
    "\n",
    "#copiando apenas a coluna de catégoria de comidas\n",
    "\n",
    "filtro = recipes.RecipeCategory.copy()"
   ]
  },
  {
   "cell_type": "code",
   "execution_count": 18,
   "id": "09055306",
   "metadata": {},
   "outputs": [],
   "source": [
    "#criando função para concatenar as outras categorias menos importantes:\n",
    "\n",
    "def cat_food(x):\n",
    "    if x in food_category:\n",
    "        return x\n",
    "    else:\n",
    "        return 'Outros'"
   ]
  },
  {
   "cell_type": "code",
   "execution_count": 19,
   "id": "0e2e55c7",
   "metadata": {},
   "outputs": [],
   "source": [
    "#realizando a transformação\n",
    "\n",
    "filtro = filtro.map(cat_food)"
   ]
  },
  {
   "cell_type": "markdown",
   "id": "2f6bcf65",
   "metadata": {},
   "source": [
    "### Graficos"
   ]
  },
  {
   "cell_type": "code",
   "execution_count": 20,
   "id": "bb62c9f0",
   "metadata": {},
   "outputs": [
    {
     "data": {
      "image/png": "[encoded data removed]",
      "text/plain": [
       "<Figure size 640x480 with 1 Axes>"
      ]
     },
     "metadata": {},
     "output_type": "display_data"
    }
   ],
   "source": [
    "#histograma com as 12 categorias com mais receitas.\n",
    "\n",
    "sns.histplot(filtro,  )\n",
    "plt.xticks(rotation=60)\n",
    "plt.show()"
   ]
  },
  {
   "cell_type": "code",
   "execution_count": 21,
   "id": "442f5dd7",
   "metadata": {},
   "outputs": [
    {
     "data": {
      "image/png": "[encoded data removed]",
      "text/plain": [
       "<Figure size 640x480 with 1 Axes>"
      ]
     },
     "metadata": {},
     "output_type": "display_data"
    }
   ],
   "source": [
    "sns.histplot(recipes['AggregatedRating'])\n",
    "plt.title('N° de Receitas por pontuação das avaliações')\n",
    "#plt.savefig('Histograma_avaliação_receitas.png', format='png')\n",
    "plt.ylabel('N° de Receitas');"
   ]
  },
  {
   "cell_type": "code",
   "execution_count": 22,
   "id": "fab44079",
   "metadata": {},
   "outputs": [
    {
     "data": {
      "image/png": "[encoded data removed]",
      "text/plain": [
       "<Figure size 640x480 with 1 Axes>"
      ]
     },
     "metadata": {},
     "output_type": "display_data"
    }
   ],
   "source": [
    "#Plot da distribuição da quantidade de receitas por tempo total\n",
    "\n",
    "sns.scatterplot(x = recipes.totaltime_min, y = recipes.totaltime_min.value_counts())\n",
    "plt.ylabel('quantidade')\n",
    "plt.show()"
   ]
  },
  {
   "cell_type": "code",
   "execution_count": 23,
   "id": "79b645e1",
   "metadata": {},
   "outputs": [
    {
     "data": {
      "image/png": "[encoded data removed]",
      "text/plain": [
       "<Figure size 640x480 with 1 Axes>"
      ]
     },
     "metadata": {},
     "output_type": "display_data"
    }
   ],
   "source": [
    "#Plot da distribuição das calorias\n",
    "\n",
    "sns.scatterplot(x = recipes.Calories, y = recipes.Calories.value_counts())\n",
    "plt.ylabel('Receitas')\n",
    "plt.show()"
   ]
  },
  {
   "cell_type": "code",
   "execution_count": 24,
   "id": "97a0d6bc",
   "metadata": {},
   "outputs": [
    {
     "data": {
      "image/png": "[encoded data removed]",
      "text/plain": [
       "<Figure size 640x480 with 1 Axes>"
      ]
     },
     "metadata": {},
     "output_type": "display_data"
    }
   ],
   "source": [
    "\n",
    "# matplotlib histogram\n",
    "plt.hist(recipes['totaltime_min'], color = 'blue', edgecolor = 'black')\n",
    "\n",
    "# seaborn histogram\n",
    "sns.distplot(recipes['totaltime_min'], hist=True, kde=False, \n",
    "             color = 'blue',\n",
    "             hist_kws={'edgecolor':'black'})\n",
    "# Add labels\n",
    "plt.title('Nº de Receitas por tempo de preparo')\n",
    "plt.xlabel('totaltime_min')\n",
    "plt.ylabel('Nº Receitas')\n",
    "plt.show()"
   ]
  },
  {
   "cell_type": "code",
   "execution_count": 25,
   "id": "df675d59",
   "metadata": {},
   "outputs": [
    {
     "data": {
      "image/png": "[encoded data removed]",
      "text/plain": [
       "<Figure size 640x480 with 1 Axes>"
      ]
     },
     "metadata": {},
     "output_type": "display_data"
    }
   ],
   "source": [
    "\n",
    "# matplotlib histogram\n",
    "\n",
    "plt.hist(recipes['AggregatedRating'], color = 'blue', edgecolor = 'black')\n",
    "\n",
    "# seaborn histogram\n",
    "sns.distplot(recipes['AggregatedRating'], hist=True, kde=False, \n",
    "             color = 'blue',\n",
    "             hist_kws={'edgecolor':'black'})\n",
    "# Add labels\n",
    "plt.title('Nº de Receitas por pontuação das avaliações')\n",
    "plt.xlabel('AggregatedRating')\n",
    "plt.ylabel('Nº Receitas')\n",
    "plt.show()"
   ]
  },
  {
   "cell_type": "markdown",
   "id": "2ec5a09d",
   "metadata": {},
   "source": [
    "**Resultados:**\n",
    "- Existem muitas catégorias de receitas pequenas, que ao serem agrupadas, se tornam a maior catégoria presente no dataset, a catégoria que possuí mais entradas são *desert* seguida por *Lunch/snacks*;\n",
    "\n",
    "- As notas atribuidas as nossas receitas não são confiaveis já que praticamente todas elas recebem 5 estrelas, fazendo com que haja pouca confiabilidade nessa váriavel;\n",
    "\n",
    "- A maior distribuição de receitas se encontra no intevalo de 0m até 1900m, entretanto existem observasão com 10000m que equivalem a quase 7 dias de preparo;"
   ]
  },
  {
   "cell_type": "markdown",
   "id": "54768da9",
   "metadata": {},
   "source": [
    "##### Graficos e alterações antigas"
   ]
  },
  {
   "cell_type": "markdown",
   "id": "d7e83be3",
   "metadata": {},
   "source": [
    "#Plot da distribuição da quantidade de receitas por tempo de preparo\n",
    "\n",
    "sns.scatterplot(x=recipes.preptime_min, y= recipes.preptime_min.value_counts())\n",
    "plt.ylabel('Quantidade')\n",
    "plt.show()"
   ]
  },
  {
   "cell_type": "markdown",
   "id": "49df31bf",
   "metadata": {},
   "source": [
    "#Plot da distribuição da quantidade de receitas por tempo de cozimento\n",
    "\n",
    "sns.scatterplot(x=recipes.cooktime_min, y= recipes.cooktime_min.value_counts())\n",
    "plt.ylabel('Quantidade')\n",
    "plt.show()"
   ]
  },
  {
   "cell_type": "markdown",
   "id": "ba0de423",
   "metadata": {},
   "source": [
    "#dropando receitas que possuem mais de 72h de tempo de cozimento\n",
    "\n",
    "lista = recipes[recipes.cooktime_min > 4320].index.to_list()\n",
    "recipes.drop(index=lista, inplace=True)"
   ]
  },
  {
   "cell_type": "markdown",
   "id": "37159c98",
   "metadata": {},
   "source": [
    "#####"
   ]
  },
  {
   "cell_type": "code",
   "execution_count": 26,
   "id": "766dcda4",
   "metadata": {},
   "outputs": [
    {
     "data": {
      "image/png": "[encoded data removed]",
      "text/plain": [
       "<Figure size 640x480 with 1 Axes>"
      ]
     },
     "metadata": {},
     "output_type": "display_data"
    }
   ],
   "source": [
    "\n",
    "# matplotlib histogram\n",
    "plt.hist(recipes['totaltime_min'], color = 'blue', edgecolor = 'black')\n",
    "\n",
    "# seaborn histogram\n",
    "sns.distplot(recipes['totaltime_min'], hist=True, kde=False, \n",
    "             color = 'blue',\n",
    "             hist_kws={'edgecolor':'black'})\n",
    "# Add labels\n",
    "plt.title('Nº de Receitas por tempo de preparo')\n",
    "plt.xlabel('totaltime_min')\n",
    "plt.ylabel('Nº Receitas')\n",
    "plt.show()"
   ]
  },
  {
   "cell_type": "code",
   "execution_count": 27,
   "id": "d5e4f488",
   "metadata": {},
   "outputs": [
    {
     "data": {
      "image/png": "[encoded data removed]",
      "text/plain": [
       "<Figure size 640x480 with 1 Axes>"
      ]
     },
     "metadata": {},
     "output_type": "display_data"
    }
   ],
   "source": [
    "\n",
    "# matplotlib histogram\n",
    "plt.hist(recipes['AggregatedRating'], color = 'blue', edgecolor = 'black')\n",
    "\n",
    "# seaborn histogram\n",
    "sns.distplot(recipes['AggregatedRating'], hist=True, kde=False, \n",
    "             color = 'blue',\n",
    "             hist_kws={'edgecolor':'black'})\n",
    "# Add labels\n",
    "plt.title('Nº de Receitas por pontuação das avaliações')\n",
    "plt.xlabel('AggregatedRating')\n",
    "plt.ylabel('Nº Receitas')\n",
    "plt.show()"
   ]
  },
  {
   "cell_type": "markdown",
   "id": "e08c88d9",
   "metadata": {},
   "source": [
    "### EDA 2"
   ]
  },
  {
   "cell_type": "code",
   "execution_count": 28,
   "id": "154c20ce",
   "metadata": {},
   "outputs": [
    {
     "data": {
      "text/html": [
       "<div>\n",
       "<style scoped>\n",
       "    .dataframe tbody tr th:only-of-type {\n",
       "        vertical-align: middle;\n",
       "    }\n",
       "\n",
       "    .dataframe tbody tr th {\n",
       "        vertical-align: top;\n",
       "    }\n",
       "\n",
       "    .dataframe thead th {\n",
       "        text-align: right;\n",
       "    }\n",
       "</style>\n",
       "<table border=\"1\" class=\"dataframe\">\n",
       "  <thead>\n",
       "    <tr style=\"text-align: right;\">\n",
       "      <th></th>\n",
       "      <th>Name</th>\n",
       "      <th>Description</th>\n",
       "      <th>RecipeCategory</th>\n",
       "      <th>Keywords</th>\n",
       "      <th>RecipeIngredientQuantities</th>\n",
       "      <th>RecipeIngredientParts</th>\n",
       "      <th>AggregatedRating</th>\n",
       "      <th>Calories</th>\n",
       "      <th>RecipeServings</th>\n",
       "      <th>RecipeYield</th>\n",
       "      <th>RecipeInstructions</th>\n",
       "      <th>hours</th>\n",
       "      <th>minutes</th>\n",
       "      <th>totaltime_min</th>\n",
       "      <th>calories_classification</th>\n",
       "    </tr>\n",
       "  </thead>\n",
       "  <tbody>\n",
       "    <tr>\n",
       "      <th>0</th>\n",
       "      <td>Low-Fat Berry Blue Frozen Dessert</td>\n",
       "      <td>Make and share this Low-Fat Berry Blue Frozen ...</td>\n",
       "      <td>Frozen Desserts</td>\n",
       "      <td>['Dessert', 'Low Protein', 'Low Cholesterol', ...</td>\n",
       "      <td>['4', '1/4', '1', '1']</td>\n",
       "      <td>['blueberries', 'granulated sugar', 'vanilla y...</td>\n",
       "      <td>4.5</td>\n",
       "      <td>170.9</td>\n",
       "      <td>4.0</td>\n",
       "      <td>NaN</td>\n",
       "      <td>['Toss 2 cups berries with sugar.', 'Let stand...</td>\n",
       "      <td>24</td>\n",
       "      <td>45</td>\n",
       "      <td>1485</td>\n",
       "      <td>Low</td>\n",
       "    </tr>\n",
       "    <tr>\n",
       "      <th>1</th>\n",
       "      <td>Biryani</td>\n",
       "      <td>Make and share this Biryani recipe from Food.com.</td>\n",
       "      <td>Chicken Breast</td>\n",
       "      <td>['Chicken Thigh &amp; Leg', 'Chicken', 'Poultry', ...</td>\n",
       "      <td>['1', '4', '2', '2', '8', '1/4', '8', '1/2', '...</td>\n",
       "      <td>['saffron', 'milk', 'hot green chili peppers',...</td>\n",
       "      <td>3.0</td>\n",
       "      <td>1110.7</td>\n",
       "      <td>6.0</td>\n",
       "      <td>NaN</td>\n",
       "      <td>['Soak saffron in warm milk for 5 minutes and ...</td>\n",
       "      <td>4</td>\n",
       "      <td>25</td>\n",
       "      <td>265</td>\n",
       "      <td>High</td>\n",
       "    </tr>\n",
       "    <tr>\n",
       "      <th>2</th>\n",
       "      <td>Best Lemonade</td>\n",
       "      <td>This is from one of my  first Good House Keepi...</td>\n",
       "      <td>Beverages</td>\n",
       "      <td>['Low Protein', 'Low Cholesterol', 'Healthy', ...</td>\n",
       "      <td>['1 1/2', '1', '1 1/2', '3/4']</td>\n",
       "      <td>['sugar', 'lemons, rind of', 'lemon, zest of',...</td>\n",
       "      <td>4.5</td>\n",
       "      <td>311.1</td>\n",
       "      <td>4.0</td>\n",
       "      <td>NaN</td>\n",
       "      <td>['Into a 1 quart Jar with tight fitting lid, p...</td>\n",
       "      <td>0</td>\n",
       "      <td>35</td>\n",
       "      <td>35</td>\n",
       "      <td>Medium</td>\n",
       "    </tr>\n",
       "    <tr>\n",
       "      <th>3</th>\n",
       "      <td>Carina's Tofu-Vegetable Kebabs</td>\n",
       "      <td>This dish is best prepared a day in advance to...</td>\n",
       "      <td>Soy/Tofu</td>\n",
       "      <td>['Beans', 'Vegetable', 'Low Cholesterol', 'Wee...</td>\n",
       "      <td>['12', '1', '2', '1', '10', '1', '3', '2', '2'...</td>\n",
       "      <td>['extra firm tofu', 'eggplant', 'zucchini', 'm...</td>\n",
       "      <td>4.5</td>\n",
       "      <td>536.1</td>\n",
       "      <td>2.0</td>\n",
       "      <td>4 kebabs</td>\n",
       "      <td>['Drain the tofu, carefully squeezing out exce...</td>\n",
       "      <td>24</td>\n",
       "      <td>20</td>\n",
       "      <td>1460</td>\n",
       "      <td>High</td>\n",
       "    </tr>\n",
       "    <tr>\n",
       "      <th>4</th>\n",
       "      <td>Cabbage Soup</td>\n",
       "      <td>Make and share this Cabbage Soup recipe from F...</td>\n",
       "      <td>Vegetable</td>\n",
       "      <td>['Low Protein', 'Vegan', 'Low Cholesterol', 'H...</td>\n",
       "      <td>['46', '4', '1', '2', '1']</td>\n",
       "      <td>['plain tomato juice', 'cabbage', 'onion', 'ca...</td>\n",
       "      <td>4.5</td>\n",
       "      <td>103.6</td>\n",
       "      <td>4.0</td>\n",
       "      <td>NaN</td>\n",
       "      <td>['Mix everything together and bring to a boil....</td>\n",
       "      <td>0</td>\n",
       "      <td>50</td>\n",
       "      <td>50</td>\n",
       "      <td>Low</td>\n",
       "    </tr>\n",
       "  </tbody>\n",
       "</table>\n",
       "</div>"
      ],
      "text/plain": [
       "                                Name  \\\n",
       "0  Low-Fat Berry Blue Frozen Dessert   \n",
       "1                            Biryani   \n",
       "2                      Best Lemonade   \n",
       "3     Carina's Tofu-Vegetable Kebabs   \n",
       "4                       Cabbage Soup   \n",
       "\n",
       "                                         Description   RecipeCategory  \\\n",
       "0  Make and share this Low-Fat Berry Blue Frozen ...  Frozen Desserts   \n",
       "1  Make and share this Biryani recipe from Food.com.   Chicken Breast   \n",
       "2  This is from one of my  first Good House Keepi...        Beverages   \n",
       "3  This dish is best prepared a day in advance to...         Soy/Tofu   \n",
       "4  Make and share this Cabbage Soup recipe from F...        Vegetable   \n",
       "\n",
       "                                            Keywords  \\\n",
       "0  ['Dessert', 'Low Protein', 'Low Cholesterol', ...   \n",
       "1  ['Chicken Thigh & Leg', 'Chicken', 'Poultry', ...   \n",
       "2  ['Low Protein', 'Low Cholesterol', 'Healthy', ...   \n",
       "3  ['Beans', 'Vegetable', 'Low Cholesterol', 'Wee...   \n",
       "4  ['Low Protein', 'Vegan', 'Low Cholesterol', 'H...   \n",
       "\n",
       "                          RecipeIngredientQuantities  \\\n",
       "0                             ['4', '1/4', '1', '1']   \n",
       "1  ['1', '4', '2', '2', '8', '1/4', '8', '1/2', '...   \n",
       "2                     ['1 1/2', '1', '1 1/2', '3/4']   \n",
       "3  ['12', '1', '2', '1', '10', '1', '3', '2', '2'...   \n",
       "4                         ['46', '4', '1', '2', '1']   \n",
       "\n",
       "                               RecipeIngredientParts  AggregatedRating  \\\n",
       "0  ['blueberries', 'granulated sugar', 'vanilla y...               4.5   \n",
       "1  ['saffron', 'milk', 'hot green chili peppers',...               3.0   \n",
       "2  ['sugar', 'lemons, rind of', 'lemon, zest of',...               4.5   \n",
       "3  ['extra firm tofu', 'eggplant', 'zucchini', 'm...               4.5   \n",
       "4  ['plain tomato juice', 'cabbage', 'onion', 'ca...               4.5   \n",
       "\n",
       "   Calories  RecipeServings RecipeYield  \\\n",
       "0     170.9             4.0         NaN   \n",
       "1    1110.7             6.0         NaN   \n",
       "2     311.1             4.0         NaN   \n",
       "3     536.1             2.0    4 kebabs   \n",
       "4     103.6             4.0         NaN   \n",
       "\n",
       "                                  RecipeInstructions hours minutes  \\\n",
       "0  ['Toss 2 cups berries with sugar.', 'Let stand...    24      45   \n",
       "1  ['Soak saffron in warm milk for 5 minutes and ...     4      25   \n",
       "2  ['Into a 1 quart Jar with tight fitting lid, p...     0      35   \n",
       "3  ['Drain the tofu, carefully squeezing out exce...    24      20   \n",
       "4  ['Mix everything together and bring to a boil....     0      50   \n",
       "\n",
       "   totaltime_min calories_classification  \n",
       "0           1485                     Low  \n",
       "1            265                    High  \n",
       "2             35                  Medium  \n",
       "3           1460                    High  \n",
       "4             50                     Low  "
      ]
     },
     "execution_count": 28,
     "metadata": {},
     "output_type": "execute_result"
    }
   ],
   "source": [
    "#dropando colunas adicionais:\n",
    "recipes.drop(columns=['RecipeId', 'CookTime', 'PrepTime', 'TotalTime', 'reviews_in_dict', ], inplace=True)\n",
    "recipes.head()"
   ]
  },
  {
   "cell_type": "code",
   "execution_count": 29,
   "id": "cd1c682f",
   "metadata": {},
   "outputs": [
    {
     "data": {
      "text/html": [
       "<div>\n",
       "<style scoped>\n",
       "    .dataframe tbody tr th:only-of-type {\n",
       "        vertical-align: middle;\n",
       "    }\n",
       "\n",
       "    .dataframe tbody tr th {\n",
       "        vertical-align: top;\n",
       "    }\n",
       "\n",
       "    .dataframe thead th {\n",
       "        text-align: right;\n",
       "    }\n",
       "</style>\n",
       "<table border=\"1\" class=\"dataframe\">\n",
       "  <thead>\n",
       "    <tr style=\"text-align: right;\">\n",
       "      <th></th>\n",
       "      <th>AggregatedRating</th>\n",
       "      <th>Calories</th>\n",
       "      <th>RecipeServings</th>\n",
       "      <th>totaltime_min</th>\n",
       "    </tr>\n",
       "  </thead>\n",
       "  <tbody>\n",
       "    <tr>\n",
       "      <th>count</th>\n",
       "      <td>10000.00</td>\n",
       "      <td>10000.00</td>\n",
       "      <td>6147.00</td>\n",
       "      <td>10000.00</td>\n",
       "    </tr>\n",
       "    <tr>\n",
       "      <th>mean</th>\n",
       "      <td>4.77</td>\n",
       "      <td>493.86</td>\n",
       "      <td>7.62</td>\n",
       "      <td>126.62</td>\n",
       "    </tr>\n",
       "    <tr>\n",
       "      <th>std</th>\n",
       "      <td>0.41</td>\n",
       "      <td>742.02</td>\n",
       "      <td>7.51</td>\n",
       "      <td>1484.11</td>\n",
       "    </tr>\n",
       "    <tr>\n",
       "      <th>min</th>\n",
       "      <td>1.00</td>\n",
       "      <td>0.00</td>\n",
       "      <td>1.00</td>\n",
       "      <td>1.00</td>\n",
       "    </tr>\n",
       "    <tr>\n",
       "      <th>25%</th>\n",
       "      <td>4.50</td>\n",
       "      <td>177.78</td>\n",
       "      <td>4.00</td>\n",
       "      <td>27.00</td>\n",
       "    </tr>\n",
       "    <tr>\n",
       "      <th>50%</th>\n",
       "      <td>5.00</td>\n",
       "      <td>312.75</td>\n",
       "      <td>6.00</td>\n",
       "      <td>45.00</td>\n",
       "    </tr>\n",
       "    <tr>\n",
       "      <th>75%</th>\n",
       "      <td>5.00</td>\n",
       "      <td>514.92</td>\n",
       "      <td>8.00</td>\n",
       "      <td>72.00</td>\n",
       "    </tr>\n",
       "    <tr>\n",
       "      <th>max</th>\n",
       "      <td>5.00</td>\n",
       "      <td>13598.20</td>\n",
       "      <td>128.00</td>\n",
       "      <td>115230.00</td>\n",
       "    </tr>\n",
       "  </tbody>\n",
       "</table>\n",
       "</div>"
      ],
      "text/plain": [
       "       AggregatedRating  Calories  RecipeServings  totaltime_min\n",
       "count          10000.00  10000.00         6147.00       10000.00\n",
       "mean               4.77    493.86            7.62         126.62\n",
       "std                0.41    742.02            7.51        1484.11\n",
       "min                1.00      0.00            1.00           1.00\n",
       "25%                4.50    177.78            4.00          27.00\n",
       "50%                5.00    312.75            6.00          45.00\n",
       "75%                5.00    514.92            8.00          72.00\n",
       "max                5.00  13598.20          128.00      115230.00"
      ]
     },
     "execution_count": 29,
     "metadata": {},
     "output_type": "execute_result"
    }
   ],
   "source": [
    "#explorando as colunas\n",
    "recipes.describe().round(2)"
   ]
  },
  {
   "cell_type": "code",
   "execution_count": 30,
   "id": "53565422",
   "metadata": {},
   "outputs": [
    {
     "data": {
      "text/html": [
       "<div>\n",
       "<style scoped>\n",
       "    .dataframe tbody tr th:only-of-type {\n",
       "        vertical-align: middle;\n",
       "    }\n",
       "\n",
       "    .dataframe tbody tr th {\n",
       "        vertical-align: top;\n",
       "    }\n",
       "\n",
       "    .dataframe thead th {\n",
       "        text-align: right;\n",
       "    }\n",
       "</style>\n",
       "<table border=\"1\" class=\"dataframe\">\n",
       "  <thead>\n",
       "    <tr style=\"text-align: right;\">\n",
       "      <th></th>\n",
       "      <th>Name</th>\n",
       "      <th>Description</th>\n",
       "      <th>RecipeCategory</th>\n",
       "      <th>Keywords</th>\n",
       "      <th>RecipeIngredientQuantities</th>\n",
       "      <th>RecipeIngredientParts</th>\n",
       "      <th>RecipeYield</th>\n",
       "      <th>RecipeInstructions</th>\n",
       "      <th>hours</th>\n",
       "      <th>minutes</th>\n",
       "    </tr>\n",
       "  </thead>\n",
       "  <tbody>\n",
       "    <tr>\n",
       "      <th>count</th>\n",
       "      <td>10000</td>\n",
       "      <td>10000</td>\n",
       "      <td>10000</td>\n",
       "      <td>10000</td>\n",
       "      <td>10000</td>\n",
       "      <td>10000</td>\n",
       "      <td>2999</td>\n",
       "      <td>10000</td>\n",
       "      <td>10000</td>\n",
       "      <td>10000</td>\n",
       "    </tr>\n",
       "    <tr>\n",
       "      <th>unique</th>\n",
       "      <td>9653</td>\n",
       "      <td>9861</td>\n",
       "      <td>173</td>\n",
       "      <td>8084</td>\n",
       "      <td>9539</td>\n",
       "      <td>9920</td>\n",
       "      <td>1472</td>\n",
       "      <td>9999</td>\n",
       "      <td>44</td>\n",
       "      <td>60</td>\n",
       "    </tr>\n",
       "    <tr>\n",
       "      <th>top</th>\n",
       "      <td>Banana Bread</td>\n",
       "      <td>Make and share this Banana Bread recipe from F...</td>\n",
       "      <td>Dessert</td>\n",
       "      <td>['&lt; 60 Mins']</td>\n",
       "      <td>['1']</td>\n",
       "      <td>[]</td>\n",
       "      <td>1 loaf</td>\n",
       "      <td>['Cook beans according to package directions.'...</td>\n",
       "      <td>0</td>\n",
       "      <td>30</td>\n",
       "    </tr>\n",
       "    <tr>\n",
       "      <th>freq</th>\n",
       "      <td>12</td>\n",
       "      <td>7</td>\n",
       "      <td>1037</td>\n",
       "      <td>75</td>\n",
       "      <td>32</td>\n",
       "      <td>20</td>\n",
       "      <td>119</td>\n",
       "      <td>2</td>\n",
       "      <td>6330</td>\n",
       "      <td>1056</td>\n",
       "    </tr>\n",
       "  </tbody>\n",
       "</table>\n",
       "</div>"
      ],
      "text/plain": [
       "                Name                                        Description  \\\n",
       "count          10000                                              10000   \n",
       "unique          9653                                               9861   \n",
       "top     Banana Bread  Make and share this Banana Bread recipe from F...   \n",
       "freq              12                                                  7   \n",
       "\n",
       "       RecipeCategory       Keywords RecipeIngredientQuantities  \\\n",
       "count           10000          10000                      10000   \n",
       "unique            173           8084                       9539   \n",
       "top           Dessert  ['< 60 Mins']                      ['1']   \n",
       "freq             1037             75                         32   \n",
       "\n",
       "       RecipeIngredientParts RecipeYield  \\\n",
       "count                  10000        2999   \n",
       "unique                  9920        1472   \n",
       "top                       []      1 loaf   \n",
       "freq                      20         119   \n",
       "\n",
       "                                       RecipeInstructions  hours minutes  \n",
       "count                                               10000  10000   10000  \n",
       "unique                                               9999     44      60  \n",
       "top     ['Cook beans according to package directions.'...      0      30  \n",
       "freq                                                    2   6330    1056  "
      ]
     },
     "execution_count": 30,
     "metadata": {},
     "output_type": "execute_result"
    }
   ],
   "source": [
    "#explorando as colunas\n",
    "recipes.describe(include=np.object)"
   ]
  },
  {
   "cell_type": "markdown",
   "id": "33e07964",
   "metadata": {},
   "source": [
    "**Resultados:**"
   ]
  },
  {
   "cell_type": "markdown",
   "id": "3113d5e1",
   "metadata": {},
   "source": [
    "### Tratamento de texto"
   ]
  },
  {
   "cell_type": "markdown",
   "id": "c09d3ce8",
   "metadata": {},
   "source": [
    "#### Funções"
   ]
  },
  {
   "cell_type": "code",
   "execution_count": 31,
   "id": "62182249",
   "metadata": {},
   "outputs": [],
   "source": [
    "#função para remover pontos e virgulas substituindo por espaços.\n",
    "\n",
    "def clean_text(text: str) -> str:\n",
    "    cleaned = text.lower()\n",
    "    cleaned = re.sub(r'[^\\w\\s]', ' ', cleaned)\n",
    "    return cleaned"
   ]
  },
  {
   "cell_type": "code",
   "execution_count": 32,
   "id": "5abccc64",
   "metadata": {},
   "outputs": [],
   "source": [
    "#Função para remover stopwords em inlgês:\n",
    "\n",
    "stopwords = nltk.corpus.stopwords.words('english')\n",
    "\n",
    "def stopwords_remove(x):\n",
    "    text_list = word_tokenize(x)\n",
    "    filtered_sentence = []\n",
    "    filtered_sentence = [w for w in text_list if not w.lower() in stopwords]\n",
    "    for w in text_list:\n",
    "        if w not in stopwords:\n",
    "            filtered_sentence.append(w)\n",
    "    text = \" \".join(filtered_sentence)\n",
    "    return text"
   ]
  },
  {
   "cell_type": "code",
   "execution_count": 33,
   "id": "1b800fdd",
   "metadata": {},
   "outputs": [],
   "source": [
    "#Função para obter rootwords:\n",
    "\n",
    "ps = PorterStemmer()\n",
    "\n",
    "def stemmer_words(text):\n",
    "    word_tokens = word_tokenize(text)\n",
    "    stemmer_words = ' '.join(ps.stem(word) for word in word_tokens)\n",
    "    return stemmer_words"
   ]
  },
  {
   "cell_type": "code",
   "execution_count": 34,
   "id": "992badcb",
   "metadata": {},
   "outputs": [],
   "source": [
    "def normalizer(x):\n",
    "    v = x\n",
    "    normalized_v = normalize(v, axis=0).ravel()\n",
    "    modulo = np.linalg.norm(normalized_v)\n",
    "    return modulo"
   ]
  },
  {
   "cell_type": "markdown",
   "id": "c5f7d0dc",
   "metadata": {},
   "source": [
    "#### Abordagem\n"
   ]
  },
  {
   "cell_type": "code",
   "execution_count": 35,
   "id": "2c08e5c1",
   "metadata": {},
   "outputs": [],
   "source": [
    "#Juntado todas as váriaveis de texto\n",
    "\n",
    "recipes['recipe_text'] = (recipes['Name'] + ' ' + \n",
    "                         recipes['Description'] + ' ' + \n",
    "                         recipes['RecipeCategory'] + ' ' +\n",
    "                         recipes['Keywords'] + ' ' +\n",
    "                         recipes['RecipeIngredientParts'] + ' ' +  \n",
    "                         recipes['RecipeInstructions'])"
   ]
  },
  {
   "cell_type": "code",
   "execution_count": 36,
   "id": "7adb5ca7",
   "metadata": {},
   "outputs": [],
   "source": [
    "#removendo letras maiúsculas e pontuação\n",
    "\n",
    "recipes['cleaned'] = recipes['recipe_text'].apply(lambda x:clean_text(x))"
   ]
  },
  {
   "cell_type": "code",
   "execution_count": 37,
   "id": "510dbe37",
   "metadata": {},
   "outputs": [],
   "source": [
    "#removendo stopwords\n",
    "\n",
    "recipes['cleaned'] = recipes['cleaned'].apply(lambda x: stopwords_remove(x))"
   ]
  },
  {
   "cell_type": "code",
   "execution_count": 38,
   "id": "3a907a4a",
   "metadata": {},
   "outputs": [],
   "source": [
    "#reduzindo algumas palavras para a raiz \n",
    "\n",
    "recipes['cleaned'] = recipes['cleaned'].apply(lambda x: stemmer_words(x))"
   ]
  },
  {
   "cell_type": "code",
   "execution_count": 39,
   "id": "d07eab94",
   "metadata": {},
   "outputs": [],
   "source": [
    "#Treinando vetorizador\n",
    "\n",
    "vec=TfidfVectorizer()\n",
    "vec.fit(recipes['cleaned'])\n",
    "\n",
    "#função para aplicar a vetorização no dataset\n",
    "\n",
    "def vectorize_txt(text):\n",
    "    list_word = []\n",
    "    list_word.append(text)\n",
    "    matrix = vec.transform(list_word)\n",
    "    return matrix.toarray()"
   ]
  },
  {
   "cell_type": "code",
   "execution_count": 40,
   "id": "1e3415a1",
   "metadata": {},
   "outputs": [],
   "source": [
    "#Vetorizando texto\n",
    "\n",
    "recipes['vectorize_text'] = recipes['cleaned'].apply(lambda x: vectorize_txt(x))"
   ]
  },
  {
   "cell_type": "code",
   "execution_count": 41,
   "id": "2e1f43c3",
   "metadata": {},
   "outputs": [],
   "source": [
    "#Normalizando dados do vetor e calculando o módulo\n",
    "\n",
    "recipes['vector_module'] = recipes['vectorize_text'].map(normalizer)"
   ]
  },
  {
   "cell_type": "code",
   "execution_count": 42,
   "id": "b92b9f48",
   "metadata": {},
   "outputs": [],
   "source": [
    "#lista = ['recipe_text','cleaned', 'vectorize_text']\n",
    "#recipes.drop(columns=lista, inplace=True)"
   ]
  },
  {
   "cell_type": "code",
   "execution_count": 43,
   "id": "3e801852",
   "metadata": {},
   "outputs": [
    {
     "data": {
      "text/html": [
       "<div>\n",
       "<style scoped>\n",
       "    .dataframe tbody tr th:only-of-type {\n",
       "        vertical-align: middle;\n",
       "    }\n",
       "\n",
       "    .dataframe tbody tr th {\n",
       "        vertical-align: top;\n",
       "    }\n",
       "\n",
       "    .dataframe thead th {\n",
       "        text-align: right;\n",
       "    }\n",
       "</style>\n",
       "<table border=\"1\" class=\"dataframe\">\n",
       "  <thead>\n",
       "    <tr style=\"text-align: right;\">\n",
       "      <th></th>\n",
       "      <th>Name</th>\n",
       "      <th>Description</th>\n",
       "      <th>RecipeCategory</th>\n",
       "      <th>Keywords</th>\n",
       "      <th>RecipeIngredientQuantities</th>\n",
       "      <th>RecipeIngredientParts</th>\n",
       "      <th>AggregatedRating</th>\n",
       "      <th>Calories</th>\n",
       "      <th>RecipeServings</th>\n",
       "      <th>RecipeYield</th>\n",
       "      <th>RecipeInstructions</th>\n",
       "      <th>hours</th>\n",
       "      <th>minutes</th>\n",
       "      <th>totaltime_min</th>\n",
       "      <th>calories_classification</th>\n",
       "      <th>recipe_text</th>\n",
       "      <th>cleaned</th>\n",
       "      <th>vectorize_text</th>\n",
       "      <th>vector_module</th>\n",
       "    </tr>\n",
       "  </thead>\n",
       "  <tbody>\n",
       "    <tr>\n",
       "      <th>0</th>\n",
       "      <td>Low-Fat Berry Blue Frozen Dessert</td>\n",
       "      <td>Make and share this Low-Fat Berry Blue Frozen ...</td>\n",
       "      <td>Frozen Desserts</td>\n",
       "      <td>['Dessert', 'Low Protein', 'Low Cholesterol', ...</td>\n",
       "      <td>['4', '1/4', '1', '1']</td>\n",
       "      <td>['blueberries', 'granulated sugar', 'vanilla y...</td>\n",
       "      <td>4.5</td>\n",
       "      <td>170.9</td>\n",
       "      <td>4.0</td>\n",
       "      <td>NaN</td>\n",
       "      <td>['Toss 2 cups berries with sugar.', 'Let stand...</td>\n",
       "      <td>24</td>\n",
       "      <td>45</td>\n",
       "      <td>1485</td>\n",
       "      <td>Low</td>\n",
       "      <td>Low-Fat Berry Blue Frozen Dessert Make and sha...</td>\n",
       "      <td>low fat berri blue frozen dessert make share l...</td>\n",
       "      <td>[[0.0, 0.0, 0.0, 0.0, 0.0, 0.0, 0.0, 0.0, 0.0,...</td>\n",
       "      <td>8.246211</td>\n",
       "    </tr>\n",
       "    <tr>\n",
       "      <th>1</th>\n",
       "      <td>Biryani</td>\n",
       "      <td>Make and share this Biryani recipe from Food.com.</td>\n",
       "      <td>Chicken Breast</td>\n",
       "      <td>['Chicken Thigh &amp; Leg', 'Chicken', 'Poultry', ...</td>\n",
       "      <td>['1', '4', '2', '2', '8', '1/4', '8', '1/2', '...</td>\n",
       "      <td>['saffron', 'milk', 'hot green chili peppers',...</td>\n",
       "      <td>3.0</td>\n",
       "      <td>1110.7</td>\n",
       "      <td>6.0</td>\n",
       "      <td>NaN</td>\n",
       "      <td>['Soak saffron in warm milk for 5 minutes and ...</td>\n",
       "      <td>4</td>\n",
       "      <td>25</td>\n",
       "      <td>265</td>\n",
       "      <td>High</td>\n",
       "      <td>Biryani Make and share this Biryani recipe fro...</td>\n",
       "      <td>biryani make share biryani recip food com chic...</td>\n",
       "      <td>[[0.0, 0.0, 0.0, 0.0, 0.0, 0.0, 0.0, 0.0, 0.0,...</td>\n",
       "      <td>10.535654</td>\n",
       "    </tr>\n",
       "    <tr>\n",
       "      <th>2</th>\n",
       "      <td>Best Lemonade</td>\n",
       "      <td>This is from one of my  first Good House Keepi...</td>\n",
       "      <td>Beverages</td>\n",
       "      <td>['Low Protein', 'Low Cholesterol', 'Healthy', ...</td>\n",
       "      <td>['1 1/2', '1', '1 1/2', '3/4']</td>\n",
       "      <td>['sugar', 'lemons, rind of', 'lemon, zest of',...</td>\n",
       "      <td>4.5</td>\n",
       "      <td>311.1</td>\n",
       "      <td>4.0</td>\n",
       "      <td>NaN</td>\n",
       "      <td>['Into a 1 quart Jar with tight fitting lid, p...</td>\n",
       "      <td>0</td>\n",
       "      <td>35</td>\n",
       "      <td>35</td>\n",
       "      <td>Medium</td>\n",
       "      <td>Best Lemonade This is from one of my  first Go...</td>\n",
       "      <td>best lemonad one first good hous keep cookbook...</td>\n",
       "      <td>[[0.0, 0.0, 0.0, 0.0, 0.0, 0.0, 0.0, 0.0, 0.0,...</td>\n",
       "      <td>8.366600</td>\n",
       "    </tr>\n",
       "    <tr>\n",
       "      <th>3</th>\n",
       "      <td>Carina's Tofu-Vegetable Kebabs</td>\n",
       "      <td>This dish is best prepared a day in advance to...</td>\n",
       "      <td>Soy/Tofu</td>\n",
       "      <td>['Beans', 'Vegetable', 'Low Cholesterol', 'Wee...</td>\n",
       "      <td>['12', '1', '2', '1', '10', '1', '3', '2', '2'...</td>\n",
       "      <td>['extra firm tofu', 'eggplant', 'zucchini', 'm...</td>\n",
       "      <td>4.5</td>\n",
       "      <td>536.1</td>\n",
       "      <td>2.0</td>\n",
       "      <td>4 kebabs</td>\n",
       "      <td>['Drain the tofu, carefully squeezing out exce...</td>\n",
       "      <td>24</td>\n",
       "      <td>20</td>\n",
       "      <td>1460</td>\n",
       "      <td>High</td>\n",
       "      <td>Carina's Tofu-Vegetable Kebabs This dish is be...</td>\n",
       "      <td>carina tofu veget kebab dish best prepar day a...</td>\n",
       "      <td>[[0.0, 0.0, 0.0, 0.0, 0.0, 0.0, 0.0, 0.0, 0.0,...</td>\n",
       "      <td>11.704700</td>\n",
       "    </tr>\n",
       "    <tr>\n",
       "      <th>4</th>\n",
       "      <td>Cabbage Soup</td>\n",
       "      <td>Make and share this Cabbage Soup recipe from F...</td>\n",
       "      <td>Vegetable</td>\n",
       "      <td>['Low Protein', 'Vegan', 'Low Cholesterol', 'H...</td>\n",
       "      <td>['46', '4', '1', '2', '1']</td>\n",
       "      <td>['plain tomato juice', 'cabbage', 'onion', 'ca...</td>\n",
       "      <td>4.5</td>\n",
       "      <td>103.6</td>\n",
       "      <td>4.0</td>\n",
       "      <td>NaN</td>\n",
       "      <td>['Mix everything together and bring to a boil....</td>\n",
       "      <td>0</td>\n",
       "      <td>50</td>\n",
       "      <td>50</td>\n",
       "      <td>Low</td>\n",
       "      <td>Cabbage Soup Make and share this Cabbage Soup ...</td>\n",
       "      <td>cabbag soup make share cabbag soup recip food ...</td>\n",
       "      <td>[[0.0, 0.0, 0.0, 0.0, 0.0, 0.0, 0.0, 0.0, 0.0,...</td>\n",
       "      <td>6.557439</td>\n",
       "    </tr>\n",
       "  </tbody>\n",
       "</table>\n",
       "</div>"
      ],
      "text/plain": [
       "                                Name  \\\n",
       "0  Low-Fat Berry Blue Frozen Dessert   \n",
       "1                            Biryani   \n",
       "2                      Best Lemonade   \n",
       "3     Carina's Tofu-Vegetable Kebabs   \n",
       "4                       Cabbage Soup   \n",
       "\n",
       "                                         Description   RecipeCategory  \\\n",
       "0  Make and share this Low-Fat Berry Blue Frozen ...  Frozen Desserts   \n",
       "1  Make and share this Biryani recipe from Food.com.   Chicken Breast   \n",
       "2  This is from one of my  first Good House Keepi...        Beverages   \n",
       "3  This dish is best prepared a day in advance to...         Soy/Tofu   \n",
       "4  Make and share this Cabbage Soup recipe from F...        Vegetable   \n",
       "\n",
       "                                            Keywords  \\\n",
       "0  ['Dessert', 'Low Protein', 'Low Cholesterol', ...   \n",
       "1  ['Chicken Thigh & Leg', 'Chicken', 'Poultry', ...   \n",
       "2  ['Low Protein', 'Low Cholesterol', 'Healthy', ...   \n",
       "3  ['Beans', 'Vegetable', 'Low Cholesterol', 'Wee...   \n",
       "4  ['Low Protein', 'Vegan', 'Low Cholesterol', 'H...   \n",
       "\n",
       "                          RecipeIngredientQuantities  \\\n",
       "0                             ['4', '1/4', '1', '1']   \n",
       "1  ['1', '4', '2', '2', '8', '1/4', '8', '1/2', '...   \n",
       "2                     ['1 1/2', '1', '1 1/2', '3/4']   \n",
       "3  ['12', '1', '2', '1', '10', '1', '3', '2', '2'...   \n",
       "4                         ['46', '4', '1', '2', '1']   \n",
       "\n",
       "                               RecipeIngredientParts  AggregatedRating  \\\n",
       "0  ['blueberries', 'granulated sugar', 'vanilla y...               4.5   \n",
       "1  ['saffron', 'milk', 'hot green chili peppers',...               3.0   \n",
       "2  ['sugar', 'lemons, rind of', 'lemon, zest of',...               4.5   \n",
       "3  ['extra firm tofu', 'eggplant', 'zucchini', 'm...               4.5   \n",
       "4  ['plain tomato juice', 'cabbage', 'onion', 'ca...               4.5   \n",
       "\n",
       "   Calories  RecipeServings RecipeYield  \\\n",
       "0     170.9             4.0         NaN   \n",
       "1    1110.7             6.0         NaN   \n",
       "2     311.1             4.0         NaN   \n",
       "3     536.1             2.0    4 kebabs   \n",
       "4     103.6             4.0         NaN   \n",
       "\n",
       "                                  RecipeInstructions hours minutes  \\\n",
       "0  ['Toss 2 cups berries with sugar.', 'Let stand...    24      45   \n",
       "1  ['Soak saffron in warm milk for 5 minutes and ...     4      25   \n",
       "2  ['Into a 1 quart Jar with tight fitting lid, p...     0      35   \n",
       "3  ['Drain the tofu, carefully squeezing out exce...    24      20   \n",
       "4  ['Mix everything together and bring to a boil....     0      50   \n",
       "\n",
       "   totaltime_min calories_classification  \\\n",
       "0           1485                     Low   \n",
       "1            265                    High   \n",
       "2             35                  Medium   \n",
       "3           1460                    High   \n",
       "4             50                     Low   \n",
       "\n",
       "                                         recipe_text  \\\n",
       "0  Low-Fat Berry Blue Frozen Dessert Make and sha...   \n",
       "1  Biryani Make and share this Biryani recipe fro...   \n",
       "2  Best Lemonade This is from one of my  first Go...   \n",
       "3  Carina's Tofu-Vegetable Kebabs This dish is be...   \n",
       "4  Cabbage Soup Make and share this Cabbage Soup ...   \n",
       "\n",
       "                                             cleaned  \\\n",
       "0  low fat berri blue frozen dessert make share l...   \n",
       "1  biryani make share biryani recip food com chic...   \n",
       "2  best lemonad one first good hous keep cookbook...   \n",
       "3  carina tofu veget kebab dish best prepar day a...   \n",
       "4  cabbag soup make share cabbag soup recip food ...   \n",
       "\n",
       "                                      vectorize_text  vector_module  \n",
       "0  [[0.0, 0.0, 0.0, 0.0, 0.0, 0.0, 0.0, 0.0, 0.0,...       8.246211  \n",
       "1  [[0.0, 0.0, 0.0, 0.0, 0.0, 0.0, 0.0, 0.0, 0.0,...      10.535654  \n",
       "2  [[0.0, 0.0, 0.0, 0.0, 0.0, 0.0, 0.0, 0.0, 0.0,...       8.366600  \n",
       "3  [[0.0, 0.0, 0.0, 0.0, 0.0, 0.0, 0.0, 0.0, 0.0,...      11.704700  \n",
       "4  [[0.0, 0.0, 0.0, 0.0, 0.0, 0.0, 0.0, 0.0, 0.0,...       6.557439  "
      ]
     },
     "execution_count": 43,
     "metadata": {},
     "output_type": "execute_result"
    }
   ],
   "source": [
    "recipes.head()"
   ]
  },
  {
   "cell_type": "markdown",
   "id": "f25e8ebc",
   "metadata": {},
   "source": [
    "### Modelagem"
   ]
  },
  {
   "cell_type": "code",
   "execution_count": 60,
   "id": "9a8a18f4",
   "metadata": {},
   "outputs": [
    {
     "data": {
      "text/plain": [
       "1.0"
      ]
     },
     "execution_count": 60,
     "metadata": {},
     "output_type": "execute_result"
    }
   ],
   "source": [
    "np.linalg.norm(recipes['vectorize_text'][9])"
   ]
  },
  {
   "cell_type": "code",
   "execution_count": null,
   "id": "d0423c99",
   "metadata": {},
   "outputs": [],
   "source": []
  },
  {
   "cell_type": "code",
   "execution_count": null,
   "id": "6e7386b3",
   "metadata": {},
   "outputs": [],
   "source": []
  }
 ],
 "metadata": {
  "kernelspec": {
   "display_name": "Python 3.9.7 ('rec_env': venv)",
   "language": "python",
   "name": "python3"
  },
  "language_info": {
   "codemirror_mode": {
    "name": "ipython",
    "version": 3
   },
   "file_extension": ".py",
   "mimetype": "text/x-python",
   "name": "python",
   "nbconvert_exporter": "python",
   "pygments_lexer": "ipython3",
   "version": "3.9.7"
  },
  "vscode": {
   "interpreter": {
    "hash": "a94845087b11683649dc2c92bdf02807dd1ebcc2bf929dc1b55470e0a5900bb8"
   }
  }
 },
 "nbformat": 4,
 "nbformat_minor": 5
}
